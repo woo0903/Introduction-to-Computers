{
  "nbformat": 4,
  "nbformat_minor": 0,
  "metadata": {
    "colab": {
      "provenance": [],
      "authorship_tag": "ABX9TyMZg/iSi4eTSBwGIH7bT76v",
      "include_colab_link": true
    },
    "kernelspec": {
      "name": "python3",
      "display_name": "Python 3"
    },
    "language_info": {
      "name": "python"
    }
  },
  "cells": [
    {
      "cell_type": "markdown",
      "metadata": {
        "id": "view-in-github",
        "colab_type": "text"
      },
      "source": [
        "<a href=\"https://colab.research.google.com/github/woo0903/Introduction-to-Computers/blob/main/Untitled15.ipynb\" target=\"_parent\"><img src=\"https://colab.research.google.com/assets/colab-badge.svg\" alt=\"Open In Colab\"/></a>"
      ]
    },
    {
      "cell_type": "code",
      "execution_count": 7,
      "metadata": {
        "colab": {
          "base_uri": "https://localhost:8080/"
        },
        "id": "9bpoBQW6BMhu",
        "outputId": "8e153d62-7e74-424d-af19-a580658ca6d8"
      },
      "outputs": [
        {
          "output_type": "stream",
          "name": "stdout",
          "text": [
            "0,1,2,3,4,5,6,7,8,\n",
            "\n",
            "1,2,3,4,5,6,7,8,9,\n",
            "\n",
            "1,3,5,7,9,\n",
            "\n",
            "10,8,6,4,2,"
          ]
        }
      ],
      "source": [
        "for i in range(0,9):\n",
        "  print(i,end=\",\")\n",
        "print(\"\\n\")\n",
        "for i in range(1,10):\n",
        "  print(i,end=\",\")\n",
        "print(\"\\n\")\n",
        "for i in range(1,10,2):\n",
        "  print(i,end=\",\")\n",
        "print(\"\\n\")\n",
        "for i in range(10,1,-2):\n",
        "  print(i,end=\",\")"
      ]
    },
    {
      "cell_type": "code",
      "source": [
        "i=int(input(\"請輸入一個正整數\"))\n",
        "for i in range(1,i+1):\n",
        "  print(i,end=\",\")\n",
        "  i=i+1"
      ],
      "metadata": {
        "colab": {
          "base_uri": "https://localhost:8080/"
        },
        "id": "cYbFHlFfCNNx",
        "outputId": "ecc3fd32-41f1-480e-ad59-69cdebaea0f9"
      },
      "execution_count": 9,
      "outputs": [
        {
          "output_type": "stream",
          "name": "stdout",
          "text": [
            "請輸入一個正整數5\n",
            "1,2,3,4,5,"
          ]
        }
      ]
    },
    {
      "cell_type": "code",
      "source": [
        "sum=0\n",
        "i=int(input(\"請輸入一個正整數:\"))\n",
        "for i in range(1,i+1):\n",
        "  sum=sum+i\n",
        "  i=i+1\n",
        "print(\"1到\",i-1,\"的整數和為\",sum)\n"
      ],
      "metadata": {
        "colab": {
          "base_uri": "https://localhost:8080/"
        },
        "id": "RupiNugICx_i",
        "outputId": "38c06372-1f3b-4ea3-f94a-b4ef05e25e8d"
      },
      "execution_count": 18,
      "outputs": [
        {
          "output_type": "stream",
          "name": "stdout",
          "text": [
            "請輸入一個正整數:10\n",
            "1到 10 的整數合為 55\n"
          ]
        }
      ]
    },
    {
      "cell_type": "code",
      "source": [
        "sum=0\n",
        "i=int(input(\"請輸入一個正整數:\"))\n",
        "for i in range(1,i+1):\n",
        "  sum=sum+i\n",
        "  i=i+1\n",
        "  print(\"1到\",i-1,\"的整數和為\",sum)"
      ],
      "metadata": {
        "colab": {
          "base_uri": "https://localhost:8080/"
        },
        "id": "_6s_L_DGDE0w",
        "outputId": "c2eaf103-437e-4f7e-9618-8ce50a5bf7e6"
      },
      "execution_count": 19,
      "outputs": [
        {
          "output_type": "stream",
          "name": "stdout",
          "text": [
            "請輸入一個正整數:10\n",
            "1到 1 的整數和為 1\n",
            "1到 2 的整數和為 3\n",
            "1到 3 的整數和為 6\n",
            "1到 4 的整數和為 10\n",
            "1到 5 的整數和為 15\n",
            "1到 6 的整數和為 21\n",
            "1到 7 的整數和為 28\n",
            "1到 8 的整數和為 36\n",
            "1到 9 的整數和為 45\n",
            "1到 10 的整數和為 55\n"
          ]
        }
      ]
    }
  ]
}