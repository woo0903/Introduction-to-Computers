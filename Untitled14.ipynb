{
  "nbformat": 4,
  "nbformat_minor": 0,
  "metadata": {
    "colab": {
      "provenance": [],
      "authorship_tag": "ABX9TyPqV0mypKSp1PkDS/FJS5yZ",
      "include_colab_link": true
    },
    "kernelspec": {
      "name": "python3",
      "display_name": "Python 3"
    },
    "language_info": {
      "name": "python"
    }
  },
  "cells": [
    {
      "cell_type": "markdown",
      "metadata": {
        "id": "view-in-github",
        "colab_type": "text"
      },
      "source": [
        "<a href=\"https://colab.research.google.com/github/woo0903/Introduction-to-Computers/blob/main/Untitled14.ipynb\" target=\"_parent\"><img src=\"https://colab.research.google.com/assets/colab-badge.svg\" alt=\"Open In Colab\"/></a>"
      ]
    },
    {
      "cell_type": "code",
      "source": [
        "score=int(input(\"score:\"))\n",
        "if score >= 90:\n",
        "  print('Grade is: A')\n",
        "elif score >= 80:\n",
        "  print('Grade is: B')\n",
        "elif score >= 70:\n",
        "  print('Grade is: C')\n",
        "elif score >= 60:\n",
        "  print('Grade is: D')\n",
        "else:\n",
        "  print('Grade is: F')"
      ],
      "metadata": {
        "colab": {
          "base_uri": "https://localhost:8080/",
          "height": 0
        },
        "id": "Md7bMwOz0tKj",
        "outputId": "3e52f524-aac2-49b6-f304-4a51517e1659"
      },
      "execution_count": 2,
      "outputs": [
        {
          "output_type": "stream",
          "name": "stdout",
          "text": [
            "score:50\n",
            "Grade is: F\n"
          ]
        }
      ]
    },
    {
      "cell_type": "code",
      "source": [
        "rain=str(input(\"今天會下雨嗎?\"))\n",
        "if(rain==\"Y\" or rain==\"y\"):\n",
        " print(\"要帶傘\")\n",
        "elif(rain==\"N\" or rain==\"n\"):\n",
        "  print(\"不用帶傘\")"
      ],
      "metadata": {
        "colab": {
          "base_uri": "https://localhost:8080/"
        },
        "id": "4qlnO18i2bWf",
        "outputId": "46ae67e9-c90c-424b-92f2-8c6273bafd06"
      },
      "execution_count": 17,
      "outputs": [
        {
          "output_type": "stream",
          "name": "stdout",
          "text": [
            "今天會下雨嗎?n\n",
            "不用帶傘\n"
          ]
        }
      ]
    },
    {
      "cell_type": "code",
      "source": [
        "temperature=float(input(\"temperature:\"))\n",
        "if temperature >=37.5:\n",
        "  print('體溫過高!')\n",
        "elif temperature >=37:\n",
        "  print('體溫略高!')\n",
        "elif temperature >=36.9:\n",
        "  print('體溫正常!')\n",
        "else:\n",
        "  print('體溫異常，請重新量測!') "
      ],
      "metadata": {
        "colab": {
          "base_uri": "https://localhost:8080/",
          "height": 0
        },
        "id": "R2KzW0Uc62Fk",
        "outputId": "d17b06c2-9841-4f74-9504-8c8f8b4924e3"
      },
      "execution_count": 1,
      "outputs": [
        {
          "output_type": "stream",
          "name": "stdout",
          "text": [
            "temperature:36.5\n",
            "體溫異常，請重新量測!\n"
          ]
        }
      ]
    },
    {
      "cell_type": "code",
      "source": [
        "score=int(input(\"請輸入成績:\"))\n",
        "if score >= 90:\n",
        "  print('A')\n",
        "elif score >= 80:\n",
        "  print('B')\n",
        "elif score >= 70:\n",
        "  print('C')\n",
        "elif score >= 60:\n",
        "  print('D')\n",
        "else:\n",
        "  print('E')"
      ],
      "metadata": {
        "colab": {
          "base_uri": "https://localhost:8080/",
          "height": 0
        },
        "id": "PHi8RVhJ6OWc",
        "outputId": "951a41ba-4485-48e1-e5b7-ed06b86945cf"
      },
      "execution_count": 14,
      "outputs": [
        {
          "output_type": "stream",
          "name": "stdout",
          "text": [
            "請輸入成績:90\n",
            "A\n"
          ]
        }
      ]
    },
    {
      "cell_type": "code",
      "source": [
        "season=int(input(\"請輸入月份:\"))\n",
        "if season == 3 or 4 or 5:\n",
        "  print(season,'月為春天!')\n",
        "elif season == 6 or 7 or 8:\n",
        "  print(season,'月為夏天!')\n",
        "elif season == 9 or 10 or 11:\n",
        "  print(season,'月為秋天!')\n",
        "elif season == 12 or 1 or 2:\n",
        "  print(season,'月為冬天!')\n"
      ],
      "metadata": {
        "colab": {
          "base_uri": "https://localhost:8080/",
          "height": 0
        },
        "id": "xRTGPEnX7KAj",
        "outputId": "47406365-4bae-4a03-a662-cafb2c33d954"
      },
      "execution_count": 10,
      "outputs": [
        {
          "output_type": "stream",
          "name": "stdout",
          "text": [
            "請輸入月份:6\n",
            "6 月為春天!\n"
          ]
        }
      ]
    },
    {
      "cell_type": "code",
      "source": [
        "b=float\n",
        "a=int(input(\"請輸入今年收入淨額:\"))\n",
        "if a>=2000000:\n",
        "  b=a*0.3\n",
        "  print(\"賦稅金額:\",b)\n",
        "elif a>=1000000:\n",
        "  b=a*0.21\n",
        "  print(\"賦稅金額:\",b)  \n",
        "elif a>=600000:\n",
        "  b=a*0.13\n",
        "  print(\"賦稅金額:\",b)  \n",
        "elif a>=300000:\n",
        "  b=a*0.06\n",
        "  print(\"賦稅金額:\",b)\n",
        "else:\n",
        "  print(\"賦稅淨額0元\")     "
      ],
      "metadata": {
        "colab": {
          "base_uri": "https://localhost:8080/"
        },
        "id": "41IFQeBFgxVr",
        "outputId": "89f106b8-e1d0-4081-ed3a-224daa7d34e1"
      },
      "execution_count": 16,
      "outputs": [
        {
          "output_type": "stream",
          "name": "stdout",
          "text": [
            "請輸入今年收入淨額:100000\n",
            "賦稅淨額0元\n"
          ]
        }
      ]
    }
  ]
}