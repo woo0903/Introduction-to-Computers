{
  "nbformat": 4,
  "nbformat_minor": 0,
  "metadata": {
    "colab": {
      "provenance": [],
      "include_colab_link": true
    },
    "kernelspec": {
      "name": "python3",
      "display_name": "Python 3"
    },
    "language_info": {
      "name": "python"
    },
    "accelerator": "GPU",
    "gpuClass": "standard"
  },
  "cells": [
    {
      "cell_type": "markdown",
      "metadata": {
        "id": "view-in-github",
        "colab_type": "text"
      },
      "source": [
        "<a href=\"https://colab.research.google.com/github/woo0903/Introduction-to-Computers/blob/main/410617111_%E4%BC%8D%E4%BD%B3%E7%92%87_0317.ipynb\" target=\"_parent\"><img src=\"https://colab.research.google.com/assets/colab-badge.svg\" alt=\"Open In Colab\"/></a>"
      ]
    },
    {
      "cell_type": "markdown",
      "source": [
        "**2023/03/17實習課作業**"
      ],
      "metadata": {
        "id": "mhL6PrdOkpAX"
      }
    },
    {
      "cell_type": "markdown",
      "source": [
        "Q1：同珢在銀行有一筆存款，目前銀行存款年利率為5%，以複利計算，12年後本金為何？**(變數命名可自行定義)**"
      ],
      "metadata": {
        "id": "6kIndRntkxK6"
      }
    },
    {
      "cell_type": "code",
      "source": [
        "#提示使用者輸入本金金額(運用input技能)\n",
        "deposit=int(input(\"請輸入本金存款金額\"))\n",
        "#計算年利率\n",
        "times=1.05**12 \n",
        "#計算複利(運用複合指定運算子)               \n",
        "deposit*=times\n",
        "#format字串格式化輸出結果                \n",
        "print(\"12年後存款為:{}元\".format(deposit)) "
      ],
      "metadata": {
        "id": "InA-ad2T4RBN",
        "colab": {
          "base_uri": "https://localhost:8080/"
        },
        "outputId": "93a04174-a911-4511-d9d6-e9bbf1931eb9"
      },
      "execution_count": 1,
      "outputs": [
        {
          "output_type": "stream",
          "name": "stdout",
          "text": [
            "請輸入本金存款金額5000\n",
            "12年後存款為:8979.28163011065元\n"
          ]
        }
      ]
    },
    {
      "cell_type": "markdown",
      "source": [
        "Q2：狗仔姜賢南為了要蒐集證據而跟蹤他人，搭上了一台計程車。計程車計費方式為前2公里共100元，2公里後，只要多1公里加收40元(意思是第3公里起加收40元)，請設計程式讓司機能夠輸入公里數(int型態)，來計算乘車費用。"
      ],
      "metadata": {
        "id": "WjMQt3G6mbvY"
      }
    },
    {
      "cell_type": "code",
      "source": [
        "#提示使用者輸入公里數(整數型態)(運用input技能)\n",
        "km=int(input(\"請輸入公里數(整數):\"))\n",
        "#計算車資，起始前2公里共100元，2公里後(第3公里起)加收40元   \n",
        "money=100+(km-2)*40         \n",
        "# %字串格式化輸出結果\n",
        "print(\"總車資費為:%d元\" %money)    "
      ],
      "metadata": {
        "id": "v8RAo79h_IAz",
        "colab": {
          "base_uri": "https://localhost:8080/"
        },
        "outputId": "a5278ed9-1315-407b-df04-4784250d1c92"
      },
      "execution_count": 6,
      "outputs": [
        {
          "output_type": "stream",
          "name": "stdout",
          "text": [
            "請輸入公里數(整數):10\n",
            "總車資費為:420元\n"
          ]
        }
      ]
    },
    {
      "cell_type": "code",
      "source": [],
      "metadata": {
        "id": "RZ0iFXr5xnea"
      },
      "execution_count": null,
      "outputs": []
    }
  ]
}