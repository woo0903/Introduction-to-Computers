{
  "nbformat": 4,
  "nbformat_minor": 0,
  "metadata": {
    "colab": {
      "provenance": [],
      "authorship_tag": "ABX9TyNFFkLRDFuCcFevxSdsAJpA",
      "include_colab_link": true
    },
    "kernelspec": {
      "name": "python3",
      "display_name": "Python 3"
    },
    "language_info": {
      "name": "python"
    }
  },
  "cells": [
    {
      "cell_type": "markdown",
      "metadata": {
        "id": "view-in-github",
        "colab_type": "text"
      },
      "source": [
        "<a href=\"https://colab.research.google.com/github/woo0903/Introduction-to-Computers/blob/main/Untitled9.ipynb\" target=\"_parent\"><img src=\"https://colab.research.google.com/assets/colab-badge.svg\" alt=\"Open In Colab\"/></a>"
      ]
    },
    {
      "cell_type": "code",
      "execution_count": 3,
      "metadata": {
        "id": "HP5x4DVtvkyD",
        "colab": {
          "base_uri": "https://localhost:8080/"
        },
        "outputId": "650cd69e-4dc0-4529-8d80-b1186cec86f1"
      },
      "outputs": [
        {
          "output_type": "stream",
          "name": "stdout",
          "text": [
            "panda\n",
            "panda\n"
          ]
        }
      ],
      "source": [
        "#Print名字\n",
        "a=input()\n",
        "print(a)"
      ]
    },
    {
      "cell_type": "code",
      "source": [
        "#10到N的正整數和\n",
        "N=int(input(\"請輸入一個正整數N:\"))\n",
        "sum=0\n",
        "for i in range(10,N+1):\n",
        "  sum+=i\n",
        "  print(sum)\n"
      ],
      "metadata": {
        "colab": {
          "base_uri": "https://localhost:8080/"
        },
        "id": "Cp0-l4b6wQ9k",
        "outputId": "507dc8a3-94ef-4e6f-fb2e-25a048628029"
      },
      "execution_count": 8,
      "outputs": [
        {
          "output_type": "stream",
          "name": "stdout",
          "text": [
            "請輸入一個正整數N:20\n",
            "10\n",
            "21\n",
            "33\n",
            "46\n",
            "60\n",
            "75\n",
            "91\n",
            "108\n",
            "126\n",
            "145\n",
            "165\n"
          ]
        }
      ]
    },
    {
      "cell_type": "code",
      "source": [
        "#取得字串長度\n",
        "a=input()\n",
        "print(len(a))"
      ],
      "metadata": {
        "colab": {
          "base_uri": "https://localhost:8080/"
        },
        "id": "NqijP7mHymzS",
        "outputId": "ae2f54e0-fad4-424e-cefb-01528b454b44"
      },
      "execution_count": 9,
      "outputs": [
        {
          "output_type": "stream",
          "name": "stdout",
          "text": [
            "hello panda hi hi\n",
            "17\n"
          ]
        }
      ]
    },
    {
      "cell_type": "code",
      "source": [
        "#bmi計算\n",
        "h,w=input().split()\n",
        "new_h=int(h)\n",
        "new_w=int(w)\n",
        "m_h=new_h/100\n",
        "bmi=(new_w/m_h**2)\n",
        "print(\"%.2f\"%bmi)"
      ],
      "metadata": {
        "colab": {
          "base_uri": "https://localhost:8080/"
        },
        "id": "UvJASDSf0oOP",
        "outputId": "d0f33452-64cf-4c2f-beb8-35ebede322d6"
      },
      "execution_count": 12,
      "outputs": [
        {
          "output_type": "stream",
          "name": "stdout",
          "text": [
            "176 75\n",
            "24.21\n"
          ]
        }
      ]
    },
    {
      "cell_type": "code",
      "source": [],
      "metadata": {
        "id": "oxw8CEmX1SSt"
      },
      "execution_count": null,
      "outputs": []
    }
  ]
}