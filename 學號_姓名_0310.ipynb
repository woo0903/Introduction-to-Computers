{
  "nbformat": 4,
  "nbformat_minor": 0,
  "metadata": {
    "colab": {
      "provenance": [],
      "include_colab_link": true
    },
    "kernelspec": {
      "name": "python3",
      "display_name": "Python 3"
    },
    "language_info": {
      "name": "python"
    },
    "accelerator": "GPU",
    "gpuClass": "standard"
  },
  "cells": [
    {
      "cell_type": "markdown",
      "metadata": {
        "id": "view-in-github",
        "colab_type": "text"
      },
      "source": [
        "<a href=\"https://colab.research.google.com/github/woo0903/Introduction-to-Computers/blob/main/%E5%AD%B8%E8%99%9F_%E5%A7%93%E5%90%8D_0310.ipynb\" target=\"_parent\"><img src=\"https://colab.research.google.com/assets/colab-badge.svg\" alt=\"Open In Colab\"/></a>"
      ]
    },
    {
      "cell_type": "markdown",
      "source": [
        "**2023/03/10實習課作業**"
      ],
      "metadata": {
        "id": "Ki_37DgQmaaM"
      }
    },
    {
      "cell_type": "markdown",
      "source": [
        "Q1:請嘗試寫出一個成績計算機，利用所學的input指令，讓使用者自行輸入國文與英文的分數後後，計算並輸出他的總分。\n",
        "**(變數命名可自行定義)**"
      ],
      "metadata": {
        "id": "Ce6nKFp7nui_"
      }
    },
    {
      "cell_type": "code",
      "source": [
        "'''\n",
        "第一題:總分計算機\n",
        "公式: 成績 = 國文分數 + 英文分數\n",
        "'''\n",
        "#提示使用者輸入國文成績，並轉成int整數型態來方便運算\n",
        "chi=int(input(\"請輸入國文成績:\"))\n",
        "#提示使用者輸入英文成績，並轉成int整數型態來方便運算\n",
        "eng=int(input(\"請輸入英文成績:\"))\n",
        "#計算總分(int+int)\n",
        "total=chi+eng\n",
        "#使用格式化輸出分數\n",
        "print(\"您的總分為:\",total)"
      ],
      "metadata": {
        "colab": {
          "base_uri": "https://localhost:8080/"
        },
        "id": "zlAOzhhzmVwq",
        "outputId": "ca211fc7-2d77-48a9-9daf-663e3b5f8cf1"
      },
      "execution_count": 1,
      "outputs": [
        {
          "output_type": "stream",
          "name": "stdout",
          "text": [
            "請輸入國文成績:90\n",
            "請輸入英文成績:100\n",
            "您的總分為: 190\n"
          ]
        }
      ]
    },
    {
      "cell_type": "markdown",
      "source": [
        "Q2:請嘗試寫出一個BMI計算機，利用所學的input指令，讓使用者自行輸入身高(cm)與體重(kg)後，計算並輸出他的BMI值至小數後2位。\n",
        "**(變數命名可自行定義)**"
      ],
      "metadata": {
        "id": "fjqmpVGvmfM1"
      }
    },
    {
      "cell_type": "code",
      "source": [
        "'''\n",
        "第二題:BMI計算機\n",
        "公式: BMI = 體重(kg) / 身高(m)平方\n",
        "'''\n",
        "#提示使用者輸入身高，單位為公分(cm)，並轉成int整數型態來方便運算\n",
        "height_cm=int(input(\"請輸入您的身高(cm):\"))\n",
        "#提示使用者輸入體重，單位為公斤(kg)，並轉成int整數型態來方便運算\n",
        "weight=int(input(\"請輸入您的體重(kg):\"))\n",
        "#將使用者輸入的身高單位公分(cm)，轉成公尺(m)\n",
        "height_m=height_cm/100\n",
        "#套入BMI公式\n",
        "bmi=weight/height_m**2\n",
        "#使用格式化印出小數點後2位\n",
        "print(\"BMI為: %3.23f\" % bmi)"
      ],
      "metadata": {
        "colab": {
          "base_uri": "https://localhost:8080/"
        },
        "id": "7pAz6z1Om77M",
        "outputId": "24d7f464-974b-41b0-c7a9-827f8c8e9f3a"
      },
      "execution_count": null,
      "outputs": [
        {
          "output_type": "stream",
          "name": "stdout",
          "text": [
            "請輸入您的身高(cm):170\n",
            "請輸入您的體重(kg):60\n",
            "BMI為: 20.76\n"
          ]
        }
      ]
    }
  ]
}